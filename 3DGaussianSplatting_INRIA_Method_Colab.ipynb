{
  "nbformat": 4,
  "nbformat_minor": 0,
  "metadata": {
    "colab": {
      "provenance": [],
      "gpuType": "A100",
      "machine_shape": "hm",
      "include_colab_link": true
    },
    "kernelspec": {
      "name": "python3",
      "display_name": "Python 3"
    },
    "language_info": {
      "name": "python"
    },
    "accelerator": "GPU"
  },
  "cells": [
    {
      "cell_type": "markdown",
      "metadata": {
        "id": "view-in-github",
        "colab_type": "text"
      },
      "source": [
        "<a href=\"https://colab.research.google.com/github/luokehan/zhiyi/blob/main/3DGaussianSplatting_INRIA_Method_Colab.ipynb\" target=\"_parent\"><img src=\"https://colab.research.google.com/assets/colab-badge.svg\" alt=\"Open In Colab\"/></a>"
      ]
    },
    {
      "cell_type": "markdown",
      "source": [
        "# Python downgrading\n"
      ],
      "metadata": {
        "id": "LYiyaKJVzVR5"
      }
    },
    {
      "cell_type": "code",
      "execution_count": 1,
      "metadata": {
        "colab": {
          "base_uri": "https://localhost:8080/"
        },
        "id": "bEU8kAEozSnY",
        "outputId": "c6e3b3ff-4266-4ea3-b691-a839aad85b94"
      },
      "outputs": [
        {
          "output_type": "stream",
          "name": "stdout",
          "text": [
            "--2025-08-26 09:24:28--  https://repo.anaconda.com/miniconda/Miniconda3-py37_23.1.0-1-Linux-x86_64.sh\n",
            "Resolving repo.anaconda.com (repo.anaconda.com)... 104.16.32.241, 104.16.191.158, 2606:4700::6810:bf9e, ...\n",
            "Connecting to repo.anaconda.com (repo.anaconda.com)|104.16.32.241|:443... connected.\n",
            "HTTP request sent, awaiting response... 200 OK\n",
            "Length: 90665082 (86M) [application/x-sh]\n",
            "Saving to: ‘mini.sh’\n",
            "\n",
            "mini.sh             100%[===================>]  86.46M   255MB/s    in 0.3s    \n",
            "\n",
            "2025-08-26 09:24:28 (255 MB/s) - ‘mini.sh’ saved [90665082/90665082]\n",
            "\n",
            "PREFIX=/usr/local\n",
            "Unpacking payload ...\n",
            "\n",
            "Installing base environment...\n",
            "\n",
            "\n",
            "Downloading and Extracting Packages\n",
            "\n",
            "\n",
            "Downloading and Extracting Packages\n",
            "\n",
            "Preparing transaction: - \b\b\\ \b\b| \b\b/ \b\bdone\n",
            "Executing transaction: \\ \b\b| \b\b/ \b\b- \b\b\\ \b\b| \b\b/ \b\b- \b\b\\ \b\b| \b\b/ \b\b- \b\b\\ \b\b| \b\b/ \b\b- \b\b\\ \b\b| \b\b/ \b\bdone\n",
            "installation finished.\n",
            "WARNING:\n",
            "    You currently have a PYTHONPATH environment variable set. This may cause\n",
            "    unexpected behavior when running the Python interpreter in Miniconda3.\n",
            "    For best results, please verify that your PYTHONPATH only points to\n",
            "    directories of packages that are compatible with the Python interpreter\n",
            "    in Miniconda3: /usr/local\n",
            "Collecting package metadata (current_repodata.json): ...working... done\n",
            "Solving environment: ...working... done\n",
            "\n",
            "## Package Plan ##\n",
            "\n",
            "  environment location: /usr/local\n",
            "\n",
            "  added / updated specs:\n",
            "    - python=3.7\n",
            "\n",
            "\n",
            "The following packages will be downloaded:\n",
            "\n",
            "    package                    |            build\n",
            "    ---------------------------|-----------------\n",
            "    ca-certificates-2025.7.15  |       h06a4308_0         126 KB\n",
            "    openssl-1.1.1w             |       h7f8727e_0         3.7 MB\n",
            "    ------------------------------------------------------------\n",
            "                                           Total:         3.9 MB\n",
            "\n",
            "The following packages will be UPDATED:\n",
            "\n",
            "  ca-certificates                     2023.01.10-h06a4308_0 --> 2025.7.15-h06a4308_0 \n",
            "  openssl                                 1.1.1s-h7f8727e_0 --> 1.1.1w-h7f8727e_0 \n",
            "\n",
            "\n",
            "Preparing transaction: ...working... done\n",
            "Verifying transaction: ...working... done\n",
            "Executing transaction: ...working... done\n",
            "Python 3.7.16\n"
          ]
        }
      ],
      "source": [
        "!wget -O mini.sh https://repo.anaconda.com/miniconda/Miniconda3-py37_23.1.0-1-Linux-x86_64.sh\n",
        "!chmod +x mini.sh\n",
        "!bash ./mini.sh -b -f -p /usr/local\n",
        "!conda install -q -y python=3.7\n",
        "import sys\n",
        "sys.path.append('/usr/local/lib/python3.7/site-packages')\n",
        "!python --version  # Should say Python 3.7.x"
      ]
    },
    {
      "cell_type": "markdown",
      "source": [
        "# CUDA 11.8"
      ],
      "metadata": {
        "id": "iJvxRlTYzyGE"
      }
    },
    {
      "cell_type": "code",
      "source": [
        "!wget https://developer.download.nvidia.com/compute/cuda/11.8.0/local_installers/cuda_11.8.0_520.61.05_linux.run\n",
        "!chmod +x cuda_11.8.0_520.61.05_linux.run\n",
        "!./cuda_11.8.0_520.61.05_linux.run --silent --toolkit --no-drm --no-man-page\n",
        "import os\n",
        "os.environ['PATH'] += ':/usr/local/cuda-11.8/bin'\n",
        "os.environ['LD_LIBRARY_PATH'] = '/usr/local/cuda-11.8/lib64:/usr/lib64-nvidia'\n",
        "!nvcc --version  # Should show CUDA 11.8"
      ],
      "metadata": {
        "colab": {
          "base_uri": "https://localhost:8080/"
        },
        "id": "6V1R_kOfzxck",
        "outputId": "b196b9a6-bc4c-4168-8ce1-fc68d575383f"
      },
      "execution_count": 2,
      "outputs": [
        {
          "output_type": "stream",
          "name": "stdout",
          "text": [
            "--2025-08-26 09:24:53--  https://developer.download.nvidia.com/compute/cuda/11.8.0/local_installers/cuda_11.8.0_520.61.05_linux.run\n",
            "Resolving developer.download.nvidia.com (developer.download.nvidia.com)... 23.45.46.164, 23.45.46.165\n",
            "Connecting to developer.download.nvidia.com (developer.download.nvidia.com)|23.45.46.164|:443... connected.\n",
            "HTTP request sent, awaiting response... 200 OK\n",
            "Length: 4336730777 (4.0G) [application/octet-stream]\n",
            "Saving to: ‘cuda_11.8.0_520.61.05_linux.run’\n",
            "\n",
            "cuda_11.8.0_520.61. 100%[===================>]   4.04G   252MB/s    in 15s     \n",
            "\n",
            "2025-08-26 09:25:09 (273 MB/s) - ‘cuda_11.8.0_520.61.05_linux.run’ saved [4336730777/4336730777]\n",
            "\n",
            "nvcc: NVIDIA (R) Cuda compiler driver\n",
            "Copyright (c) 2005-2022 NVIDIA Corporation\n",
            "Built on Wed_Sep_21_10:33:58_PDT_2022\n",
            "Cuda compilation tools, release 11.8, V11.8.89\n",
            "Build cuda_11.8.r11.8/compiler.31833905_0\n"
          ]
        }
      ]
    },
    {
      "cell_type": "markdown",
      "source": [
        "#Pytorch with cuda"
      ],
      "metadata": {
        "id": "5Cfq4AGJzlAI"
      }
    },
    {
      "cell_type": "code",
      "source": [
        "!pip uninstall torch torchvision torchaudio -y\n",
        "!pip install torch==1.12.1+cu116 torchvision==0.13.1+cu116 torchaudio==0.12.1 --extra-index-url https://download.pytorch.org/whl/cu116"
      ],
      "metadata": {
        "colab": {
          "base_uri": "https://localhost:8080/",
          "height": 626
        },
        "id": "bzg2csQeznWA",
        "outputId": "1a5cc7aa-8da3-44f0-c2c6-e9b084487f16"
      },
      "execution_count": 3,
      "outputs": [
        {
          "output_type": "stream",
          "name": "stdout",
          "text": [
            "\u001b[33mWARNING: Skipping torch as it is not installed.\u001b[0m\u001b[33m\n",
            "\u001b[0m\u001b[33mWARNING: Skipping torchvision as it is not installed.\u001b[0m\u001b[33m\n",
            "\u001b[0m\u001b[33mWARNING: Skipping torchaudio as it is not installed.\u001b[0m\u001b[33m\n",
            "\u001b[0mLooking in indexes: https://pypi.org/simple, https://download.pytorch.org/whl/cu116\n",
            "Collecting torch==1.12.1+cu116\n",
            "  Downloading https://download.pytorch.org/whl/cu116/torch-1.12.1%2Bcu116-cp37-cp37m-linux_x86_64.whl (1904.8 MB)\n",
            "\u001b[2K     \u001b[90m━━━━━━━━━━━━━━━━━━━━━━━━━━━━━━━━━━━━━━━━\u001b[0m \u001b[32m1.9/1.9 GB\u001b[0m \u001b[31m1.1 MB/s\u001b[0m eta \u001b[36m0:00:00\u001b[0m\n",
            "\u001b[?25hCollecting torchvision==0.13.1+cu116\n",
            "  Downloading https://download.pytorch.org/whl/cu116/torchvision-0.13.1%2Bcu116-cp37-cp37m-linux_x86_64.whl (23.5 MB)\n",
            "\u001b[2K     \u001b[90m━━━━━━━━━━━━━━━━━━━━━━━━━━━━━━━━━━━━━━━━\u001b[0m \u001b[32m23.5/23.5 MB\u001b[0m \u001b[31m55.8 MB/s\u001b[0m eta \u001b[36m0:00:00\u001b[0m\n",
            "\u001b[?25hCollecting torchaudio==0.12.1\n",
            "  Downloading https://download.pytorch.org/whl/cu116/torchaudio-0.12.1%2Bcu116-cp37-cp37m-linux_x86_64.whl (3.8 MB)\n",
            "\u001b[2K     \u001b[90m━━━━━━━━━━━━━━━━━━━━━━━━━━━━━━━━━━━━━━━━\u001b[0m \u001b[32m3.8/3.8 MB\u001b[0m \u001b[31m29.9 MB/s\u001b[0m eta \u001b[36m0:00:00\u001b[0m\n",
            "\u001b[?25hRequirement already satisfied: typing-extensions in /usr/local/lib/python3.7/site-packages (from torch==1.12.1+cu116) (4.4.0)\n",
            "Requirement already satisfied: requests in /usr/local/lib/python3.7/site-packages (from torchvision==0.13.1+cu116) (2.28.1)\n",
            "Collecting numpy\n",
            "  Downloading https://download.pytorch.org/whl/numpy-1.21.6-cp37-cp37m-manylinux_2_12_x86_64.manylinux2010_x86_64.whl (15.7 MB)\n",
            "\u001b[2K     \u001b[90m━━━━━━━━━━━━━━━━━━━━━━━━━━━━━━━━━━━━━━━━\u001b[0m \u001b[32m15.7/15.7 MB\u001b[0m \u001b[31m85.2 MB/s\u001b[0m eta \u001b[36m0:00:00\u001b[0m\n",
            "\u001b[?25hCollecting pillow!=8.3.*,>=5.3.0\n",
            "  Downloading Pillow-9.5.0-cp37-cp37m-manylinux_2_28_x86_64.whl (3.4 MB)\n",
            "\u001b[2K     \u001b[90m━━━━━━━━━━━━━━━━━━━━━━━━━━━━━━━━━━━━━━━━\u001b[0m \u001b[32m3.4/3.4 MB\u001b[0m \u001b[31m37.8 MB/s\u001b[0m eta \u001b[36m0:00:00\u001b[0m\n",
            "\u001b[?25hRequirement already satisfied: idna<4,>=2.5 in /usr/local/lib/python3.7/site-packages (from requests->torchvision==0.13.1+cu116) (3.4)\n",
            "Requirement already satisfied: urllib3<1.27,>=1.21.1 in /usr/local/lib/python3.7/site-packages (from requests->torchvision==0.13.1+cu116) (1.26.14)\n",
            "Requirement already satisfied: charset-normalizer<3,>=2 in /usr/local/lib/python3.7/site-packages (from requests->torchvision==0.13.1+cu116) (2.0.4)\n",
            "Requirement already satisfied: certifi>=2017.4.17 in /usr/local/lib/python3.7/site-packages (from requests->torchvision==0.13.1+cu116) (2022.12.7)\n",
            "Installing collected packages: torch, pillow, numpy, torchvision, torchaudio\n",
            "Successfully installed numpy-1.21.6 pillow-9.5.0 torch-1.12.1+cu116 torchaudio-0.12.1+cu116 torchvision-0.13.1+cu116\n"
          ]
        },
        {
          "output_type": "display_data",
          "data": {
            "application/vnd.colab-display-data+json": {
              "pip_warning": {
                "packages": [
                  "PIL",
                  "numpy"
                ]
              },
              "id": "539f045038f34b429edcc3287f5c08fe"
            }
          },
          "metadata": {}
        }
      ]
    },
    {
      "cell_type": "markdown",
      "source": [
        "# Verification of the versions"
      ],
      "metadata": {
        "id": "QbskoEIW1kMT"
      }
    },
    {
      "cell_type": "code",
      "source": [
        "import torch\n",
        "print(torch.cuda.is_available())  # Should be True\n",
        "print(torch.version.cuda)        # Should be 11.3 (from PyTorch)\n",
        "print(torch.cuda.get_device_name(0))  # Should show GPU"
      ],
      "metadata": {
        "colab": {
          "base_uri": "https://localhost:8080/"
        },
        "id": "T6hplWJp1ncr",
        "outputId": "e8147b64-f9ff-4853-b94e-60c230cbf174"
      },
      "execution_count": 1,
      "outputs": [
        {
          "output_type": "stream",
          "name": "stdout",
          "text": [
            "True\n",
            "12.6\n",
            "NVIDIA A100-SXM4-40GB\n"
          ]
        }
      ]
    },
    {
      "cell_type": "code",
      "source": [
        "!nvidia-smi"
      ],
      "metadata": {
        "colab": {
          "base_uri": "https://localhost:8080/"
        },
        "id": "EzxF7zKL2Z5b",
        "outputId": "f74f706d-bba4-41d6-e8db-f2a9b6b077b5"
      },
      "execution_count": 2,
      "outputs": [
        {
          "output_type": "stream",
          "name": "stdout",
          "text": [
            "Tue Aug 26 09:32:41 2025       \n",
            "+-----------------------------------------------------------------------------------------+\n",
            "| NVIDIA-SMI 550.54.15              Driver Version: 550.54.15      CUDA Version: 12.4     |\n",
            "|-----------------------------------------+------------------------+----------------------+\n",
            "| GPU  Name                 Persistence-M | Bus-Id          Disp.A | Volatile Uncorr. ECC |\n",
            "| Fan  Temp   Perf          Pwr:Usage/Cap |           Memory-Usage | GPU-Util  Compute M. |\n",
            "|                                         |                        |               MIG M. |\n",
            "|=========================================+========================+======================|\n",
            "|   0  NVIDIA A100-SXM4-40GB          Off |   00000000:00:04.0 Off |                    0 |\n",
            "| N/A   30C    P0             42W /  400W |       5MiB /  40960MiB |      0%      Default |\n",
            "|                                         |                        |             Disabled |\n",
            "+-----------------------------------------+------------------------+----------------------+\n",
            "                                                                                         \n",
            "+-----------------------------------------------------------------------------------------+\n",
            "| Processes:                                                                              |\n",
            "|  GPU   GI   CI        PID   Type   Process name                              GPU Memory |\n",
            "|        ID   ID                                                               Usage      |\n",
            "|=========================================================================================|\n",
            "|  No running processes found                                                             |\n",
            "+-----------------------------------------------------------------------------------------+\n"
          ]
        }
      ]
    },
    {
      "cell_type": "code",
      "source": [
        "%cd /content\n",
        "!git clone --recursive https://github.com/camenduru/gaussian-splatting\n",
        "!pip install -q plyfile\n",
        "\n",
        "%cd /content/gaussian-splatting\n",
        "!pip install -q /content/gaussian-splatting/submodules/diff-gaussian-rasterization\n",
        "!pip install -q /content/gaussian-splatting/submodules/simple-knn\n"
      ],
      "metadata": {
        "colab": {
          "base_uri": "https://localhost:8080/"
        },
        "id": "UXpilqZw6qnl",
        "outputId": "b03f3000-8530-4a87-c1a4-8a11c58ac0e9"
      },
      "execution_count": 3,
      "outputs": [
        {
          "output_type": "stream",
          "name": "stdout",
          "text": [
            "/content\n",
            "Cloning into 'gaussian-splatting'...\n",
            "remote: Enumerating objects: 603, done.\u001b[K\n",
            "remote: Total 603 (delta 0), reused 0 (delta 0), pack-reused 603 (from 1)\u001b[K\n",
            "Receiving objects: 100% (603/603), 2.09 MiB | 11.58 MiB/s, done.\n",
            "Resolving deltas: 100% (347/347), done.\n",
            "Submodule 'SIBR_viewers' (https://gitlab.inria.fr/sibr/sibr_core) registered for path 'SIBR_viewers'\n",
            "Submodule 'submodules/diff-gaussian-rasterization' (https://github.com/graphdeco-inria/diff-gaussian-rasterization) registered for path 'submodules/diff-gaussian-rasterization'\n",
            "Submodule 'submodules/simple-knn' (https://gitlab.inria.fr/bkerbl/simple-knn.git) registered for path 'submodules/simple-knn'\n",
            "Cloning into '/content/gaussian-splatting/SIBR_viewers'...\n",
            "warning: redirecting to https://gitlab.inria.fr/sibr/sibr_core.git/\n",
            "remote: Enumerating objects: 3293, done.        \n",
            "remote: Counting objects: 100% (322/322), done.        \n",
            "remote: Compressing objects: 100% (174/174), done.        \n",
            "remote: Total 3293 (delta 171), reused 280 (delta 148), pack-reused 2971 (from 1)        \n",
            "Receiving objects: 100% (3293/3293), 9.98 MiB | 12.32 MiB/s, done.\n",
            "Resolving deltas: 100% (2039/2039), done.\n",
            "Cloning into '/content/gaussian-splatting/submodules/diff-gaussian-rasterization'...\n",
            "remote: Enumerating objects: 329, done.        \n",
            "remote: Total 329 (delta 0), reused 0 (delta 0), pack-reused 329 (from 1)        \n",
            "Receiving objects: 100% (329/329), 111.52 KiB | 1.92 MiB/s, done.\n",
            "Resolving deltas: 100% (217/217), done.\n",
            "Cloning into '/content/gaussian-splatting/submodules/simple-knn'...\n",
            "remote: Enumerating objects: 37, done.        \n",
            "remote: Counting objects: 100% (37/37), done.        \n",
            "remote: Compressing objects: 100% (34/34), done.        \n",
            "remote: Total 37 (delta 18), reused 0 (delta 0), pack-reused 0 (from 0)        \n",
            "Receiving objects: 100% (37/37), 9.46 KiB | 9.46 MiB/s, done.\n",
            "Resolving deltas: 100% (18/18), done.\n",
            "Submodule path 'SIBR_viewers': checked out '14199886ae3f42358092c16ada909c1e0b1cba20'\n",
            "Submodule path 'submodules/diff-gaussian-rasterization': checked out '8064f52ca233942bdec2d1a1451c026deedd320b'\n",
            "Submodule 'third_party/glm' (https://github.com/g-truc/glm.git) registered for path 'submodules/diff-gaussian-rasterization/third_party/glm'\n",
            "Cloning into '/content/gaussian-splatting/submodules/diff-gaussian-rasterization/third_party/glm'...\n",
            "remote: Enumerating objects: 59935, done.        \n",
            "remote: Counting objects: 100% (217/217), done.        \n",
            "remote: Compressing objects: 100% (91/91), done.        \n",
            "remote: Total 59935 (delta 170), reused 126 (delta 126), pack-reused 59718 (from 2)        \n",
            "Receiving objects: 100% (59935/59935), 71.36 MiB | 34.93 MiB/s, done.\n",
            "Resolving deltas: 100% (45400/45400), done.\n",
            "Submodule path 'submodules/diff-gaussian-rasterization/third_party/glm': checked out '5c46b9c07008ae65cb81ab79cd677ecc1934b903'\n",
            "Submodule path 'submodules/simple-knn': checked out '44f764299fa305faf6ec5ebd99939e0508331503'\n",
            "/content/gaussian-splatting\n",
            "  Preparing metadata (setup.py) ... \u001b[?25l\u001b[?25hdone\n",
            "  Building wheel for diff-gaussian-rasterization (setup.py) ... \u001b[?25l\u001b[?25hdone\n",
            "  Preparing metadata (setup.py) ... \u001b[?25l\u001b[?25hdone\n",
            "  Building wheel for simple-knn (setup.py) ... \u001b[?25l\u001b[?25hdone\n"
          ]
        }
      ]
    },
    {
      "cell_type": "code",
      "source": [
        "FILE_ID = \"1KKJ85EGo1BVMssMcpRlwNIhJAw9nR10W\"   # ← 改成你的 Drive 文件ID\n",
        "OUTPUT_ZIP = \"my_scene.zip\"\n",
        "\n",
        "# 用 gdown 下载\n",
        "!gdown --id $FILE_ID -O $OUTPUT_ZIP\n",
        "\n",
        "# 解压\n",
        "!unzip -o $OUTPUT_ZIP -d /content/"
      ],
      "metadata": {
        "colab": {
          "base_uri": "https://localhost:8080/"
        },
        "id": "2GbT5KK271fa",
        "outputId": "d41c0a9a-c296-4403-cf11-83f5393eecff"
      },
      "execution_count": 6,
      "outputs": [
        {
          "output_type": "stream",
          "name": "stdout",
          "text": [
            "/usr/local/lib/python3.12/dist-packages/gdown/__main__.py:140: FutureWarning: Option `--id` was deprecated in version 4.3.1 and will be removed in 5.0. You don't need to pass it anymore to use a file ID.\n",
            "  warnings.warn(\n",
            "Downloading...\n",
            "From (original): https://drive.google.com/uc?id=1KKJ85EGo1BVMssMcpRlwNIhJAw9nR10W\n",
            "From (redirected): https://drive.google.com/uc?id=1KKJ85EGo1BVMssMcpRlwNIhJAw9nR10W&confirm=t&uuid=1f7d9561-d64b-408c-a2eb-b1269503c4d4\n",
            "To: /content/gaussian-splatting/my_scene.zip\n",
            "100% 705M/705M [00:07<00:00, 95.5MB/s]\n",
            "Archive:  my_scene.zip\n",
            "   creating: /content/data/\n",
            "   creating: /content/data/images/\n",
            "  inflating: /content/data/images/00001.jpg  \n",
            "  inflating: /content/data/images/00002.jpg  \n",
            "  inflating: /content/data/images/00003.jpg  \n",
            "  inflating: /content/data/images/00004.jpg  \n",
            "  inflating: /content/data/images/00005.jpg  \n",
            "  inflating: /content/data/images/00006.jpg  \n",
            "  inflating: /content/data/images/00007.jpg  \n",
            "  inflating: /content/data/images/00008.jpg  \n",
            "  inflating: /content/data/images/00009.jpg  \n",
            "  inflating: /content/data/images/00010.jpg  \n",
            "  inflating: /content/data/images/00011.jpg  \n",
            "  inflating: /content/data/images/00012.jpg  \n",
            "  inflating: /content/data/images/00013.jpg  \n",
            "  inflating: /content/data/images/00014.jpg  \n",
            "  inflating: /content/data/images/00015.jpg  \n",
            "  inflating: /content/data/images/00016.jpg  \n",
            "  inflating: /content/data/images/00017.jpg  \n",
            "  inflating: /content/data/images/00018.jpg  \n",
            "  inflating: /content/data/images/00019.jpg  \n",
            "  inflating: /content/data/images/00020.jpg  \n",
            "  inflating: /content/data/images/00021.jpg  \n",
            "  inflating: /content/data/images/00022.jpg  \n",
            "  inflating: /content/data/images/00023.jpg  \n",
            "  inflating: /content/data/images/00024.jpg  \n",
            "  inflating: /content/data/images/00025.jpg  \n",
            "  inflating: /content/data/images/00026.jpg  \n",
            "  inflating: /content/data/images/00027.jpg  \n",
            "  inflating: /content/data/images/00028.jpg  \n",
            "  inflating: /content/data/images/00029.jpg  \n",
            "  inflating: /content/data/images/00030.jpg  \n",
            "  inflating: /content/data/images/00031.jpg  \n",
            "  inflating: /content/data/images/00032.jpg  \n",
            "  inflating: /content/data/images/00033.jpg  \n",
            "  inflating: /content/data/images/00034.jpg  \n",
            "  inflating: /content/data/images/00035.jpg  \n",
            "  inflating: /content/data/images/00036.jpg  \n",
            "  inflating: /content/data/images/00037.jpg  \n",
            "  inflating: /content/data/images/00038.jpg  \n",
            "  inflating: /content/data/images/00039.jpg  \n",
            "  inflating: /content/data/images/00040.jpg  \n",
            "  inflating: /content/data/images/00041.jpg  \n",
            "  inflating: /content/data/images/00042.jpg  \n",
            "  inflating: /content/data/images/00043.jpg  \n",
            "  inflating: /content/data/images/00044.jpg  \n",
            "  inflating: /content/data/images/00045.jpg  \n",
            "  inflating: /content/data/images/00046.jpg  \n",
            "  inflating: /content/data/images/00047.jpg  \n",
            "  inflating: /content/data/images/00048.jpg  \n",
            "  inflating: /content/data/images/00049.jpg  \n",
            "  inflating: /content/data/images/00050.jpg  \n",
            "  inflating: /content/data/images/00051.jpg  \n",
            "  inflating: /content/data/images/00052.jpg  \n",
            "  inflating: /content/data/images/00053.jpg  \n",
            "  inflating: /content/data/images/00054.jpg  \n",
            "  inflating: /content/data/images/00055.jpg  \n",
            "  inflating: /content/data/images/00056.jpg  \n",
            "  inflating: /content/data/images/00057.jpg  \n",
            "  inflating: /content/data/images/00058.jpg  \n",
            "  inflating: /content/data/images/00059.jpg  \n",
            "  inflating: /content/data/images/00060.jpg  \n",
            "  inflating: /content/data/images/00061.jpg  \n",
            "  inflating: /content/data/images/00062.jpg  \n",
            "  inflating: /content/data/images/00063.jpg  \n",
            "  inflating: /content/data/images/00064.jpg  \n",
            "  inflating: /content/data/images/00065.jpg  \n",
            "  inflating: /content/data/images/00066.jpg  \n",
            "  inflating: /content/data/images/00067.jpg  \n",
            "  inflating: /content/data/images/00068.jpg  \n",
            "  inflating: /content/data/images/00069.jpg  \n",
            "  inflating: /content/data/images/00070.jpg  \n",
            "  inflating: /content/data/images/00071.jpg  \n",
            "  inflating: /content/data/images/00072.jpg  \n",
            "  inflating: /content/data/images/00073.jpg  \n",
            "  inflating: /content/data/images/00074.jpg  \n",
            "  inflating: /content/data/images/00075.jpg  \n",
            "  inflating: /content/data/images/00076.jpg  \n",
            "  inflating: /content/data/images/00077.jpg  \n",
            "  inflating: /content/data/images/00078.jpg  \n",
            "  inflating: /content/data/images/00079.jpg  \n",
            "  inflating: /content/data/images/00080.jpg  \n",
            "  inflating: /content/data/images/00081.jpg  \n",
            "  inflating: /content/data/images/00082.jpg  \n",
            "  inflating: /content/data/images/00083.jpg  \n",
            "  inflating: /content/data/images/00084.jpg  \n",
            "  inflating: /content/data/images/00085.jpg  \n",
            "  inflating: /content/data/images/00086.jpg  \n",
            "  inflating: /content/data/images/00087.jpg  \n",
            "  inflating: /content/data/images/00088.jpg  \n",
            "  inflating: /content/data/images/00089.jpg  \n",
            "  inflating: /content/data/images/00090.jpg  \n",
            "  inflating: /content/data/images/00091.jpg  \n",
            "  inflating: /content/data/images/00092.jpg  \n",
            "  inflating: /content/data/images/00093.jpg  \n",
            "  inflating: /content/data/images/00094.jpg  \n",
            "  inflating: /content/data/images/00095.jpg  \n",
            "  inflating: /content/data/images/00096.jpg  \n",
            "  inflating: /content/data/images/00097.jpg  \n",
            "  inflating: /content/data/images/00098.jpg  \n",
            "  inflating: /content/data/images/00099.jpg  \n",
            "  inflating: /content/data/images/00100.jpg  \n",
            "  inflating: /content/data/images/00101.jpg  \n",
            "  inflating: /content/data/images/00102.jpg  \n",
            "  inflating: /content/data/images/00103.jpg  \n",
            "  inflating: /content/data/images/00104.jpg  \n",
            "  inflating: /content/data/images/00105.jpg  \n",
            "  inflating: /content/data/images/00106.jpg  \n",
            "  inflating: /content/data/images/00107.jpg  \n",
            "  inflating: /content/data/images/00108.jpg  \n",
            "  inflating: /content/data/images/00109.jpg  \n",
            "  inflating: /content/data/images/00110.jpg  \n",
            "  inflating: /content/data/images/00111.jpg  \n",
            "  inflating: /content/data/images/00112.jpg  \n",
            "  inflating: /content/data/images/00113.jpg  \n",
            "  inflating: /content/data/images/00114.jpg  \n",
            "  inflating: /content/data/images/00115.jpg  \n",
            "  inflating: /content/data/images/00116.jpg  \n",
            "  inflating: /content/data/images/00117.jpg  \n",
            "  inflating: /content/data/images/00118.jpg  \n",
            "  inflating: /content/data/images/00119.jpg  \n",
            "  inflating: /content/data/images/00120.jpg  \n",
            "  inflating: /content/data/images/00121.jpg  \n",
            "  inflating: /content/data/images/00122.jpg  \n",
            "  inflating: /content/data/images/00123.jpg  \n",
            "   creating: /content/data/sparse/\n",
            "   creating: /content/data/sparse/0/\n",
            "  inflating: /content/data/sparse/0/cameras.bin  \n",
            "  inflating: /content/data/sparse/0/images.bin  \n",
            "  inflating: /content/data/sparse/0/points3D.bin  \n"
          ]
        }
      ]
    },
    {
      "cell_type": "code",
      "source": [
        "import os, shutil\n",
        "\n",
        "TARGET_DIR = \"/content/my_scene\"\n",
        "\n",
        "def is_valid_scene(path):\n",
        "    return (os.path.isdir(os.path.join(path, \"images\")) and\n",
        "            os.path.isdir(os.path.join(path, \"sparse\", \"0\")))\n",
        "\n",
        "# 自动找目录\n",
        "candidate = None\n",
        "for root, dirs, files in os.walk(\"/content\"):\n",
        "    if is_valid_scene(root):\n",
        "        candidate = root\n",
        "        break\n",
        "\n",
        "assert candidate, \"❌ 解压后未找到 images/ 和 sparse/0/ 目录\"\n",
        "if os.path.exists(TARGET_DIR): shutil.rmtree(TARGET_DIR)\n",
        "os.symlink(candidate, TARGET_DIR)\n",
        "print(\"✅ 使用目录：\", candidate)\n",
        "!ls -R /content/my_scene | head -n 20"
      ],
      "metadata": {
        "id": "BUd_Z7bnvdnh",
        "outputId": "a37e0375-ab3f-4feb-dbd3-c9d908866b18",
        "colab": {
          "base_uri": "https://localhost:8080/"
        }
      },
      "execution_count": 7,
      "outputs": [
        {
          "output_type": "stream",
          "name": "stdout",
          "text": [
            "✅ 使用目录： /content/data\n",
            "/content/my_scene:\n",
            "images\n",
            "sparse\n",
            "\n",
            "/content/my_scene/images:\n",
            "00001.jpg\n",
            "00002.jpg\n",
            "00003.jpg\n",
            "00004.jpg\n",
            "00005.jpg\n",
            "00006.jpg\n",
            "00007.jpg\n",
            "00008.jpg\n",
            "00009.jpg\n",
            "00010.jpg\n",
            "00011.jpg\n",
            "00012.jpg\n",
            "00013.jpg\n",
            "00014.jpg\n",
            "00015.jpg\n"
          ]
        }
      ]
    },
    {
      "cell_type": "code",
      "source": [
        "!python train.py -s /content/my_scene -m my_model --iterations 30000"
      ],
      "metadata": {
        "id": "sys43xDsxyHi",
        "outputId": "36347ae6-8730-4e49-f786-3daeb9a98a05",
        "colab": {
          "base_uri": "https://localhost:8080/"
        }
      },
      "execution_count": null,
      "outputs": [
        {
          "output_type": "stream",
          "name": "stdout",
          "text": [
            "Optimizing my_model\n",
            "Output folder: my_model [26/08 09:50:06]\n",
            "Tensorboard not available: not logging progress [26/08 09:50:06]\n",
            "Reading camera 123/123 [26/08 09:50:07]\n",
            "Converting point3d.bin to .ply, will happen only the first time you open the scene. [26/08 09:50:07]\n",
            "Loading Training Cameras [26/08 09:50:08]\n",
            "[ INFO ] Encountered quite large input images (>1.6K pixels width), rescaling to 1.6K.\n",
            " If this is not desired, please explicitly specify '--resolution/-r' as 1 [26/08 09:50:08]\n",
            "Loading Test Cameras [26/08 09:50:36]\n",
            "Number of points at initialisation :  73675 [26/08 09:50:36]\n",
            "Training progress:  23% 7000/30000 [05:52<21:22, 17.94it/s, Loss=0.0813677]\n",
            "[ITER 7000] Evaluating train: L1 0.0343878410756588 PSNR 25.37953910827637 [26/08 09:56:28]\n",
            "\n",
            "[ITER 7000] Saving Gaussians [26/08 09:56:28]\n",
            "Training progress:  27% 8000/30000 [07:01<21:25, 17.11it/s, Loss=0.0750352]"
          ]
        }
      ]
    },
    {
      "cell_type": "code",
      "source": [],
      "metadata": {
        "id": "9qLc-WEUvkcZ"
      },
      "execution_count": null,
      "outputs": []
    }
  ]
}